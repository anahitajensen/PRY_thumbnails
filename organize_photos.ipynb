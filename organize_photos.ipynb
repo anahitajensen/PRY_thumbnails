#import required packages
from glob import glob
# modules for copying files
import os
import shutil
from xml.sax.handler import DTDHandler
import exif
import piexif
#import exif to help with getting the date from the photo metadata
from exif import Image
from datetime import datetime, timedelta
from PIL import Image

#copy and paste photos from /All_RR_Field_Cam_Photos/site to site/Trail_Cam/Manual_Downloads/year/

sites = ("BYS", "CLD", "MEW", "MLL", "PRY", "WHT")
for site in sites: 
    origin = 'Z:/CW3E_Streamflow_Archive/All_RR_Field_Cam_Photos/' + site
    
    #Fetching the list of all the files
    files = os.listdir(origin)
    
    # Fetching all the files to directory, check for duplicate dates (if so, keep HD one)
    for file_name in files:
        
        #to get rid of the duplicate files, assuming all 'PICT' files will have a duplicate, so this skips the PICT ones
        if 'PICT' in file_name:
            continue
        
        file_path = os.path.join(origin, file_name)

        try:
            image = Image.open(file_path)
        except Exception as e:
            print(f"Error opening file {file_path}: {e}")

        # Get the datetime from the Exif data
        exif_data = piexif.load(image.info['exif'])
        datetime_original = datetime.strptime(exif_data['Exif'][36867].decode(), "%Y:%m:%d %H:%M:%S")

        # Put the datetime into a format for saving as a filename
        filename_datetime = datetime_original.strftime('%Y%m%d_%H%M%S')

        year = str(datetime_original.year)
        month = str(datetime_original.month)
        day = str(datetime_original.day)
        hour = str(datetime_original.hour)
        minute = str(datetime_original.minute)
        second = str(datetime_original.second)
        
        target = 'Z:/CW3E_Streamflow_Archive/' + site + '/Trail Cam/Manual_Download/' + year + '/'

        #from the exif data, specify the file_new_name and format: XXX_YYYYMMDD_hhmmss; PST
        file_new_name = site + '_' + year + month + day + '_' + hour + minute + second + '.jpg'

        shutil.copy(origin+file_name, target+file_new_name)

    print("Copied successfully")

#then, make sure that all photos after May 2023 are included in this folder too, but most of the cameras were dead except BYS, so there aren't too many
#it is just BYS
